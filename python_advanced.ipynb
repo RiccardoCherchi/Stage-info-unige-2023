{
  "nbformat": 4,
  "nbformat_minor": 0,
  "metadata": {
    "colab": {
      "provenance": [],
      "include_colab_link": true
    },
    "kernelspec": {
      "name": "python3",
      "display_name": "Python 3"
    },
    "language_info": {
      "name": "python"
    }
  },
  "cells": [
    {
      "cell_type": "markdown",
      "metadata": {
        "id": "view-in-github",
        "colab_type": "text"
      },
      "source": [
        "<a href=\"https://colab.research.google.com/github/RiccardoCherchi/Stage-info-unige-2023/blob/main/python_advanced.ipynb\" target=\"_parent\"><img src=\"https://colab.research.google.com/assets/colab-badge.svg\" alt=\"Open In Colab\"/></a>"
      ]
    },
    {
      "cell_type": "code",
      "source": [
        "# Escape Characters..\n",
        "\n",
        "print(\"ciao\\nciao\")\n",
        "print(\"ciao\\\\nciao\")\n",
        "print(\"ciao\\tciao\")\n",
        "print(\"\\\"Python\\\"\")"
      ],
      "metadata": {
        "id": "bbCYup9oyiJY"
      },
      "execution_count": null,
      "outputs": []
    },
    {
      "cell_type": "code",
      "source": [
        "# if-elif-else\n",
        "\n",
        "x = 1\n",
        "if(x == 1): print(\"1\")\n",
        "if(x == 1):\n",
        "  print(\"hello\")\n",
        "  print(\"Python\")\n",
        "elif(x == 2):\n",
        "  print(\"hello\")\n",
        "else:\n",
        "  print(\"Python\")"
      ],
      "metadata": {
        "id": "TvqtqIlZzXEi"
      },
      "execution_count": null,
      "outputs": []
    },
    {
      "cell_type": "code",
      "source": [
        "# Swapping variable with output formatting \n",
        "\n",
        "a = 2\n",
        "b = 5\n",
        "aux = a\n",
        "a = b\n",
        "b = aux\n",
        "\n",
        "# del aux \n",
        "\n",
        "print(\"a : %d, b : %d\" % (a, b)) # old c-style string formatting\n",
        "print(\"a : {}, b : {}\".format(a, b)) # formatting output using the format method\n",
        "print(\"a : {0:2.2f}, b : {1:2.2f}\".format(a, b)) # formatting output using the format method"
      ],
      "metadata": {
        "id": "OhhbLHbvbu4_"
      },
      "execution_count": null,
      "outputs": []
    },
    {
      "cell_type": "code",
      "source": [
        "# Assign multiple values (swap without aux variable)\n",
        "\n",
        "a = 2\n",
        "b = 5\n",
        "a, b = b, a\n",
        "\n",
        "print(\"a : {}, b : {}\".format(a, b))"
      ],
      "metadata": {
        "id": "CvnNFVQfeKuT"
      },
      "execution_count": null,
      "outputs": []
    },
    {
      "cell_type": "code",
      "source": [
        "# Swapping variables using XOR operator\n",
        "\n",
        "a = a ^ b\n",
        "b = a ^ b\n",
        "a = a ^ b\n",
        "\n",
        "print(\"a : {}, b : {}\".format(a, b))"
      ],
      "metadata": {
        "colab": {
          "base_uri": "https://localhost:8080/"
        },
        "id": "Y83D86G0emhO",
        "outputId": "4421a652-84b0-4e13-9b2d-0b45945c5e91"
      },
      "execution_count": null,
      "outputs": [
        {
          "output_type": "stream",
          "name": "stdout",
          "text": [
            "a : 2, b : 5\n"
          ]
        }
      ]
    },
    {
      "cell_type": "code",
      "source": [
        "# boolean\n",
        "\n",
        "x = True\n",
        "y = False \n",
        "\n",
        "# La prima lettera sempre maiuscola!\n",
        "# x = true --> NameError"
      ],
      "metadata": {
        "id": "NjtU28lcl6vE"
      },
      "execution_count": null,
      "outputs": []
    },
    {
      "cell_type": "code",
      "source": [
        "print(x and y)\n",
        "print(x or y)\n",
        "print(not(x))\n",
        "print(x and y or x)\n",
        "\n",
        "print(x+x-y) # Curiosità: True e False values are actually integers (0 and 1)\n",
        "print(True == 1)\n",
        "print(False == 0)"
      ],
      "metadata": {
        "colab": {
          "base_uri": "https://localhost:8080/"
        },
        "id": "gd6TsWgCmUG7",
        "outputId": "ecaf6eeb-45a8-4cd6-ac5c-10ff759a8fd7"
      },
      "execution_count": null,
      "outputs": [
        {
          "output_type": "stream",
          "name": "stdout",
          "text": [
            "False\n",
            "True\n",
            "False\n",
            "True\n",
            "2\n",
            "True\n",
            "True\n"
          ]
        }
      ]
    },
    {
      "cell_type": "code",
      "source": [
        "# complex number (numeri complessi, per chi li conosce da matematica o fisica)\n",
        "\n",
        "c = complex(3, 4)\n",
        "\n",
        "print(\"real part: \", c.real)\n",
        "print(\"imaginary part: \", c.imag)"
      ],
      "metadata": {
        "colab": {
          "base_uri": "https://localhost:8080/"
        },
        "id": "kNGxCURolcfl",
        "outputId": "d50278fb-d23c-48ec-8592-3d61ad64b31d"
      },
      "execution_count": null,
      "outputs": [
        {
          "output_type": "stream",
          "name": "stdout",
          "text": [
            "real part:  3.0\n",
            "imaginary part:  4.0\n"
          ]
        }
      ]
    },
    {
      "cell_type": "code",
      "source": [
        "# Liste\n",
        "\n",
        "lista = [5, [2,3,[3,4]], (2,6,8), \"hello\", [True,2], []]\n",
        "\n",
        "print(lista[1])\n",
        "print(lista[1][2]) \n",
        "print(lista[1][2][1])"
      ],
      "metadata": {
        "colab": {
          "base_uri": "https://localhost:8080/"
        },
        "id": "HRmwEEs3pM0C",
        "outputId": "bf2a93ce-7f6c-4988-f7e6-5066ef151ba6"
      },
      "execution_count": null,
      "outputs": [
        {
          "output_type": "stream",
          "name": "stdout",
          "text": [
            "[2, 3, [3, 4]]\n",
            "[3, 4]\n",
            "4\n"
          ]
        }
      ]
    },
    {
      "cell_type": "code",
      "source": [
        "# Write a Python program which takes two digits m (row) and n (column) as input and generates a two-dimensional list. \n",
        "# The element value in the i-th row and j-th column of the array should be i*j.\n",
        "# To access an element: list_name[row][column]\n",
        "\n",
        "# Completare"
      ],
      "metadata": {
        "id": "DVmoOndY9XL7"
      },
      "execution_count": null,
      "outputs": []
    },
    {
      "cell_type": "markdown",
      "source": [
        "Lambda Functions"
      ],
      "metadata": {
        "id": "0mgYcclA9ZoM"
      }
    },
    {
      "cell_type": "code",
      "source": [
        "# A lambda function is a small anonymous function.\n",
        "# A lambda function can take any number of arguments, but can only have one expression.\n",
        "\n",
        "# Add 10 to argument a, and return the result:\n",
        "x = lambda a : a + 10\n",
        "print(x(5))"
      ],
      "metadata": {
        "id": "xQ0wwL-g9bl6"
      },
      "execution_count": null,
      "outputs": []
    },
    {
      "cell_type": "code",
      "source": [
        "# Multiply argument a with argument b and return the result\n",
        "\n",
        "# Fare con Lambda function"
      ],
      "metadata": {
        "id": "O0luC9iA9deF"
      },
      "execution_count": null,
      "outputs": []
    },
    {
      "cell_type": "markdown",
      "source": [
        "**Dequeue** Come abbiamo visto a lezione, le liste non sono efficienti se usate come code. Per le code, è meglio usare gli oggetti della classe deque della libreria collections (che sono implementati come liste collegate, linked list)."
      ],
      "metadata": {
        "id": "NNb_mYbDsrOD"
      }
    },
    {
      "cell_type": "code",
      "source": [
        "from timeit import timeit\n",
        "from collections import deque\n",
        "\n",
        "# timeit number of executions\n",
        "tnumber = 100\n",
        "\n",
        "N = 10000000\n",
        "ls = list(range(N))\n",
        "dq = deque(range(N))"
      ],
      "metadata": {
        "id": "tE5P5rRrshZ-"
      },
      "execution_count": null,
      "outputs": []
    },
    {
      "cell_type": "code",
      "source": [
        "# Adding elements to the end: append\n",
        "\n",
        "t1 = timeit(lambda: ls.append(42), number=tnumber)\n",
        "t2 = timeit(lambda: dq.append(42), number=tnumber)\n",
        "\n",
        "print(\"Adding elements to the end: append\")\n",
        "print(t1, t2)\n",
        "\n",
        "# Adding elements to the start: insert vs appendleft\n",
        "\n",
        "print(\"Adding elements to the start: insert vs appendleft\")\n",
        "t3 = timeit(lambda: ls.insert(0, 42), number=tnumber)\n",
        "t4 = timeit(lambda: dq.appendleft(42), number=tnumber)\n",
        "\n",
        "print(t3, t4)"
      ],
      "metadata": {
        "colab": {
          "base_uri": "https://localhost:8080/"
        },
        "id": "jDXuBNKvsu4-",
        "outputId": "718977db-b357-4cbb-9512-fd7fecc552f5"
      },
      "execution_count": null,
      "outputs": [
        {
          "output_type": "stream",
          "name": "stdout",
          "text": [
            "Adding elements to the end: append\n",
            "1.694999991741497e-05 1.752000002852583e-05\n",
            "Adding elements to the start: insert vs appendleft\n",
            "0.6041803170001003 1.2389999938022811e-05\n"
          ]
        }
      ]
    },
    {
      "cell_type": "code",
      "source": [
        "# Removing elements from the end: pop\n",
        "\n",
        "# Removing elements from the start: pop vs popleft\n",
        "\n",
        "# completare/provare"
      ],
      "metadata": {
        "id": "c0pLWnRRteII"
      },
      "execution_count": null,
      "outputs": []
    },
    {
      "cell_type": "markdown",
      "source": [
        "**List Comprehension**"
      ],
      "metadata": {
        "id": "OFPD34U0uo04"
      }
    },
    {
      "cell_type": "code",
      "source": [
        "# Count the number of space in a string\n",
        "\n",
        "string = \" hello Python !\"\n",
        "\n",
        "q0 = len([char for char in string if char == \" \"])\n",
        "\n",
        "print(q0)"
      ],
      "metadata": {
        "colab": {
          "base_uri": "https://localhost:8080/"
        },
        "id": "0zrWTDEuuqXv",
        "outputId": "611856ca-4a93-482c-aaac-2fe5e4585fed"
      },
      "execution_count": null,
      "outputs": [
        {
          "output_type": "stream",
          "name": "stdout",
          "text": [
            "3\n"
          ]
        }
      ]
    },
    {
      "cell_type": "code",
      "source": [
        "# Find all of the words in a string that are less than 6 letters\n",
        "\n",
        "string= \" hello Python !\"\n",
        "\n",
        "words = string.split(\" \") # The split() method splits a string into a list. \n",
        "                          # You can specify the separator, default separator is any whitespace. \n",
        "\n",
        "q1 = # RISOLVI con list comprehension"
      ],
      "metadata": {
        "id": "5PZWl5-WvR-f"
      },
      "execution_count": null,
      "outputs": []
    },
    {
      "cell_type": "code",
      "source": [
        "numbers = [0, 1, 2, 3, 4, 5, 6, 7, 8, 9]\n",
        "\n",
        "# check the 10 numbers. \n",
        "# If i is divisible by 2, then Even is appended to the obj list. If not, Odd is appended.\n",
        "# Risolvi con list comprehension (hint: if-else with list comprehension)"
      ],
      "metadata": {
        "id": "dUTrnuxBwt_B"
      },
      "execution_count": null,
      "outputs": []
    },
    {
      "cell_type": "code",
      "source": [
        "numbers = range(10)\n",
        "\n",
        "# crea una lista costituita dai quadrati di 0, 1, 2, ..., 9 --> [0, 1, 4, 9, 16, ...]\n",
        "\n",
        "# Risolvi con list comprehension\n",
        "\n",
        "# Ripeti esercizio con generator expression. Cosa cambia (sintassi e comportamento)?"
      ],
      "metadata": {
        "id": "hUiVRLGzxh8o"
      },
      "execution_count": null,
      "outputs": []
    },
    {
      "cell_type": "code",
      "source": [
        "# Write a Python program which takes two digits m (row) and n (column) as input and generates a two-dimensional list. \n",
        "# The element value in the i-th row and j-th column of the array should be i*j.\n",
        "# To access an element: list_name[row][column]\n",
        "\n",
        "# E' l'esercizio di prima ma con list comprehension"
      ],
      "metadata": {
        "id": "ZurGGLzbAsJ-"
      },
      "execution_count": null,
      "outputs": []
    },
    {
      "cell_type": "code",
      "source": [
        "# Dict comprehension (comprensione di dizionari)\n",
        "\n",
        "old_price = {'milk': 1.02, 'coffee': 2.5, 'bread': 2.5}\n",
        "\n",
        "# Incrementa il prezzo di ogni prodotto di 0.2 utilizzando dict comprehension."
      ],
      "metadata": {
        "id": "mN6K8b-Q4hK2"
      },
      "execution_count": null,
      "outputs": []
    },
    {
      "cell_type": "code",
      "source": [
        "# Tuple (\"liste\" immutabili)\n",
        "\n",
        "tp1 = tuple() \n",
        "tp2 = tuple(\"hello\")\n",
        "\n",
        "print(tp1, type(tp1))\n",
        "print(tp2, type(tp2))\n",
        "\n",
        "# Non puoi aggiungere o rimuovere elementi a una tupla."
      ],
      "metadata": {
        "colab": {
          "base_uri": "https://localhost:8080/"
        },
        "id": "XOIFX-CFyZJl",
        "outputId": "1781f621-4fc9-40da-c754-ab410f93cae3"
      },
      "execution_count": null,
      "outputs": [
        {
          "output_type": "stream",
          "name": "stdout",
          "text": [
            "() <class 'tuple'>\n",
            "('h', 'e', 'l', 'l', 'o') <class 'tuple'>\n"
          ]
        },
        {
          "output_type": "execute_result",
          "data": {
            "text/plain": [
              "('h', 'e', 'l', 'l', 'o')"
            ]
          },
          "metadata": {},
          "execution_count": 2
        }
      ]
    },
    {
      "cell_type": "code",
      "source": [
        "# Attenzione alle tuple con un singolo elemento!\n",
        "\n",
        "mon1 = ('Lunedì',) # ok\n",
        "mon2 = ('Lunedì') # wrong\n",
        "\n",
        "print(mon1[0]) \n",
        "print(mon2[0]) \n",
        "\n",
        "print(type(mon1))\n",
        "print(type(mon2))\n"
      ],
      "metadata": {
        "colab": {
          "base_uri": "https://localhost:8080/"
        },
        "id": "E6T9BJHgylsB",
        "outputId": "506ba907-1002-47d0-96f6-f88110e00e31"
      },
      "execution_count": null,
      "outputs": [
        {
          "output_type": "stream",
          "name": "stdout",
          "text": [
            "Lunedì\n",
            "L\n",
            "<class 'tuple'>\n",
            "<class 'str'>\n"
          ]
        }
      ]
    },
    {
      "cell_type": "code",
      "source": [
        "# Dizionari\n",
        "\n",
        "dizionario = {}\n",
        "\n",
        "dizionario[\"hello\"] = 1 # add key-value\n",
        "\n",
        "dizionario"
      ],
      "metadata": {
        "colab": {
          "base_uri": "https://localhost:8080/"
        },
        "id": "eJThvX0t1QFu",
        "outputId": "32c30490-c5d5-45ba-e646-af8e7e479644"
      },
      "execution_count": null,
      "outputs": [
        {
          "output_type": "execute_result",
          "data": {
            "text/plain": [
              "{'hello': 1}"
            ]
          },
          "metadata": {},
          "execution_count": 23
        }
      ]
    },
    {
      "cell_type": "code",
      "source": [
        "# Esegui e osserva output\n",
        "\n",
        "thisdict = {\n",
        "  \"brand\": \"Ford\",\n",
        "  \"model\": \"Mustang\",\n",
        "  \"year\": 1964,\n",
        "  \"id\": \"AAK9291\"\n",
        "}\n",
        "\n",
        "print(thisdict.keys())\n",
        "print(thisdict.values())\n",
        "print(thisdict.items())\n",
        "print(len(thisdict))\n",
        "\n",
        "print(thisdict.get(\"year\"))\n",
        "\n",
        "print(thisdict.pop(\"id\"))\n",
        "print(thisdict)"
      ],
      "metadata": {
        "colab": {
          "base_uri": "https://localhost:8080/"
        },
        "id": "WxLb7elx1uAw",
        "outputId": "e4efd820-43a0-4d19-860e-89470d63f4a6"
      },
      "execution_count": null,
      "outputs": [
        {
          "output_type": "stream",
          "name": "stdout",
          "text": [
            "dict_keys(['brand', 'model', 'year', 'id'])\n",
            "dict_values(['Ford', 'Mustang', 1964, 'AAK9291'])\n",
            "dict_items([('brand', 'Ford'), ('model', 'Mustang'), ('year', 1964), ('id', 'AAK9291')])\n",
            "4\n",
            "1964\n",
            "AAK9291\n",
            "{'brand': 'Ford', 'model': 'Mustang', 'year': 1964}\n"
          ]
        }
      ]
    },
    {
      "cell_type": "code",
      "source": [
        "# Set (insiemi)\n",
        "# Set items are unchangeable, meaning that we cannot change the items after the set has been created.\n",
        "# Once a set is created, you cannot change its items, but you can remove items and add new items.\n",
        "\n",
        "thisset = {\"apple\", \"banana\", \"cherry\", \"apple\"}\n",
        "\n",
        "thisset.add(\"orange\")\n",
        "thisset.add(\"banana\")\n",
        "\n",
        "print(thisset) # Sai spiegare il risultato?\n"
      ],
      "metadata": {
        "id": "sZsFlYAk-TW4"
      },
      "execution_count": null,
      "outputs": []
    },
    {
      "cell_type": "code",
      "source": [
        "# Unione e intersezione di insiemi\n",
        "\n",
        "set1 = {\"a\", \"b\" , \"c\"}\n",
        "set2 = {\"c\", \"d\"}\n",
        "\n",
        "set3 = set1.union(set2)\n",
        "set4 = set1.intersection(set2)\n",
        "\n",
        "print(set3)\n",
        "print(set4)"
      ],
      "metadata": {
        "colab": {
          "base_uri": "https://localhost:8080/"
        },
        "id": "s82swZj7_LcC",
        "outputId": "71e489c5-2bc6-488f-ba2f-dba325f94c1b"
      },
      "execution_count": null,
      "outputs": [
        {
          "output_type": "stream",
          "name": "stdout",
          "text": [
            "{'c', 'a', 'd', 'b'}\n",
            "{'c'}\n"
          ]
        }
      ]
    },
    {
      "cell_type": "markdown",
      "source": [
        "**Memory management**"
      ],
      "metadata": {
        "id": "PVIODSjPsU8M"
      }
    },
    {
      "cell_type": "code",
      "source": [
        "a = 5\n",
        "b = 5\n",
        "print(a == b)\n",
        "print(a is b)\n",
        "print(id(a))\n",
        "print(id(b))\n",
        "b = 7\n",
        "print (a is b)\n",
        "print(id(b))"
      ],
      "metadata": {
        "id": "ETvGU4-bsWsg"
      },
      "execution_count": null,
      "outputs": []
    },
    {
      "cell_type": "code",
      "source": [
        "a = 256\n",
        "b = 256\n",
        "print(id(a),\" \", id(b))\n",
        "print(a == b)\n",
        "print(a is b)\n",
        "\n",
        "c = 257\n",
        "d = 257\n",
        "print(id(c),\" \", id(d))\n",
        "print(c == d)\n",
        "print(c is d)"
      ],
      "metadata": {
        "id": "8CimBFTqsxpl"
      },
      "execution_count": null,
      "outputs": []
    },
    {
      "cell_type": "code",
      "source": [
        "w = -10\n",
        "y = -10\n",
        "\n",
        "# cosa succede?"
      ],
      "metadata": {
        "id": "3ZSNawArtXje"
      },
      "execution_count": null,
      "outputs": []
    },
    {
      "cell_type": "code",
      "source": [
        "i = 33\n",
        "ii = 33\n",
        "print(id(i))\n",
        "print(i is ii)\n",
        "del ii # delete one reference to the PyObject 33 (reference count --> 1)\n",
        "print(id(i)) "
      ],
      "metadata": {
        "colab": {
          "base_uri": "https://localhost:8080/"
        },
        "id": "yNcY52ulwgGK",
        "outputId": "b9e349ea-e47e-4ac3-fa5f-5c1df0bba3b7"
      },
      "execution_count": null,
      "outputs": [
        {
          "output_type": "stream",
          "name": "stdout",
          "text": [
            "9794112\n",
            "True\n",
            "9794112\n"
          ]
        }
      ]
    },
    {
      "cell_type": "code",
      "source": [
        "p1 = \"banana\"\n",
        "p2 = \"banana\"\n",
        "\n",
        "print(id(p1),\" \", id(p2))\n",
        "print(p1 == p2)\n",
        "print(p1 is p2)\n",
        "\n",
        "\n",
        "p3 = \"Lorem ipsum dolor sit amet\"\n",
        "p4 = \"Lorem ipsum dolor sit amet\"\n",
        "\n",
        "print(\"\\n\")\n",
        "print(id(p3),\" \", id(p4))\n",
        "print(p3 == p4)\n",
        "print(p3 is p4)"
      ],
      "metadata": {
        "colab": {
          "base_uri": "https://localhost:8080/"
        },
        "id": "keZKPzwmtibe",
        "outputId": "4becb389-c282-423a-a92e-1b00e1a57699"
      },
      "execution_count": null,
      "outputs": [
        {
          "output_type": "stream",
          "name": "stdout",
          "text": [
            "140073334649776   140073334649776\n",
            "True\n",
            "True\n",
            "\n",
            "\n",
            "140073334979200   140073334979280\n",
            "True\n",
            "False\n"
          ]
        }
      ]
    },
    {
      "cell_type": "code",
      "source": [
        "lista1 = [11, 51, 33]\n",
        "lista2 = [11, 51, 33]\n",
        "lista3 = lista1     #aliasing\n",
        "\n",
        "print(lista1 is lista2)\n",
        "print(lista1 is lista3)"
      ],
      "metadata": {
        "colab": {
          "base_uri": "https://localhost:8080/"
        },
        "id": "TVDfRykN_m7C",
        "outputId": "ff9afa1e-1fd1-4c06-f6b2-c8d1a621a074"
      },
      "execution_count": null,
      "outputs": [
        {
          "output_type": "stream",
          "name": "stdout",
          "text": [
            "False\n",
            "True\n"
          ]
        }
      ]
    },
    {
      "cell_type": "code",
      "source": [
        "# None data type\n",
        "\n",
        "n = None\n",
        "p = None\n",
        "\n",
        "print(n == p)\n",
        "print(n is p)\n",
        "print(id(n))\n",
        "print(id(p))\n",
        "print(bool(None))"
      ],
      "metadata": {
        "colab": {
          "base_uri": "https://localhost:8080/"
        },
        "id": "z7rI_JzvZ8nR",
        "outputId": "ff4fda19-2a71-4979-fbef-b2e4b199b9f8"
      },
      "execution_count": null,
      "outputs": [
        {
          "output_type": "stream",
          "name": "stdout",
          "text": [
            "True\n",
            "True\n",
            "9488912\n",
            "9488912\n",
            "False\n"
          ]
        }
      ]
    },
    {
      "cell_type": "markdown",
      "source": [
        "**Python functions**"
      ],
      "metadata": {
        "id": "tjMkDMSC_fHP"
      }
    },
    {
      "cell_type": "code",
      "source": [
        "# None is the default return type of a Python function.\n",
        "\n",
        "def foo():\n",
        "  return\n",
        "\n",
        "foo = foo()\n",
        "type(foo)"
      ],
      "metadata": {
        "colab": {
          "base_uri": "https://localhost:8080/"
        },
        "id": "FmhvrsKzahgu",
        "outputId": "c544a1b2-d5f3-4108-b0a1-d534190547cb"
      },
      "execution_count": null,
      "outputs": [
        {
          "output_type": "execute_result",
          "data": {
            "text/plain": [
              "NoneType"
            ]
          },
          "metadata": {},
          "execution_count": 41
        }
      ]
    },
    {
      "cell_type": "code",
      "execution_count": null,
      "metadata": {
        "id": "I1o6EgcfN9Yg"
      },
      "outputs": [],
      "source": [
        "def somma(a, b):\n",
        "  return a + b"
      ]
    },
    {
      "cell_type": "code",
      "source": [
        "# docstrings (aggiungi documentazione/descrizione alla tua funzione)\n",
        "\n",
        "def sum(a, b):\n",
        "  \"\"\"Sum a and b.\n",
        "  Args:\n",
        "    a (int)\n",
        "    b (int)\n",
        "  \"\"\"\n",
        "\n",
        "  return a + b"
      ],
      "metadata": {
        "id": "O2RthjKCfvHf"
      },
      "execution_count": null,
      "outputs": []
    },
    {
      "cell_type": "code",
      "source": [
        "# Python annotations\n",
        "\n",
        "def somma2(a: int, b: int) -> int: \n",
        "  return a + b"
      ],
      "metadata": {
        "id": "o4_63D1UOHpr"
      },
      "execution_count": null,
      "outputs": []
    },
    {
      "cell_type": "code",
      "source": [
        "somma2(\"pippo\", \"ciao\")"
      ],
      "metadata": {
        "colab": {
          "base_uri": "https://localhost:8080/",
          "height": 56
        },
        "id": "0lZdH-SDOO7y",
        "outputId": "7ec7bdf7-d127-42dc-ed2f-a4792be71e52"
      },
      "execution_count": null,
      "outputs": [
        {
          "output_type": "execute_result",
          "data": {
            "text/plain": [
              "'pippociao'"
            ],
            "application/vnd.google.colaboratory.intrinsic+json": {
              "type": "string"
            }
          },
          "metadata": {},
          "execution_count": 7
        }
      ]
    },
    {
      "cell_type": "code",
      "source": [
        "sum.__doc__"
      ],
      "metadata": {
        "colab": {
          "base_uri": "https://localhost:8080/",
          "height": 56
        },
        "id": "8RGSUBtGgVZx",
        "outputId": "47ee11ca-7b5a-4a67-c30f-80b38f992d61"
      },
      "execution_count": null,
      "outputs": [
        {
          "output_type": "execute_result",
          "data": {
            "text/plain": [
              "'Sum a and b.\\n  Args:\\n    a (int)\\n    b (int)\\n  '"
            ],
            "application/vnd.google.colaboratory.intrinsic+json": {
              "type": "string"
            }
          },
          "metadata": {},
          "execution_count": 39
        }
      ]
    },
    {
      "cell_type": "code",
      "source": [
        "somma2.__annotations__"
      ],
      "metadata": {
        "colab": {
          "base_uri": "https://localhost:8080/"
        },
        "id": "wgMWLXUfg3mh",
        "outputId": "0bec7cc5-cf44-4db3-9990-18921795aa58"
      },
      "execution_count": null,
      "outputs": [
        {
          "output_type": "execute_result",
          "data": {
            "text/plain": [
              "{'a': int, 'b': int, 'return': int}"
            ]
          },
          "metadata": {},
          "execution_count": 42
        }
      ]
    },
    {
      "cell_type": "code",
      "source": [
        "# Default arguments\n",
        "\n",
        "def somma(a = 0, b = 0):\n",
        "  return a+b\n",
        "\n",
        "print(somma(2,3))\n",
        "print(somma()) # tipo di ritorno è 0 (int) e non None\n",
        "print(somma(\"hello\", \" Py\")) # ma è sempre tipizzazione dinamica\n",
        "\n",
        "# Curiosità: esistono librerie (come mypy) per aggiungere un static type checker opzionale (non lo vediamo, non è compatibile con Colab)"
      ],
      "metadata": {
        "colab": {
          "base_uri": "https://localhost:8080/"
        },
        "id": "cmwRIhkLjgp4",
        "outputId": "94ac2c47-8572-44ed-dad9-277473237738"
      },
      "execution_count": null,
      "outputs": [
        {
          "output_type": "stream",
          "name": "stdout",
          "text": [
            "5\n",
            "0\n",
            "hello Py\n"
          ]
        }
      ]
    },
    {
      "cell_type": "code",
      "source": [
        "# Funzioni ricorsive\n",
        "\n",
        "def fact(n):\n",
        "    \"\"\"Recursive function to find factorial\"\"\"\n",
        "    if n == 1:\n",
        "        return 1\n",
        "    else:\n",
        "        return (n * fact(n - 1))\n",
        "a = 6\n",
        "print(\"Factorial of\", a, \"=\", fact(a))"
      ],
      "metadata": {
        "id": "BlSKN610hOgs"
      },
      "execution_count": null,
      "outputs": []
    },
    {
      "cell_type": "code",
      "source": [
        "# Set\n",
        "\n",
        "insieme = {\"paperino\", \"pippo\", \"topolino\"}\n",
        "insieme2 = {\"zio paperone\", \"paperino\"}\n",
        "\n",
        "for x in insieme2:\n",
        "  if x in insieme:\n",
        "    print(x)"
      ],
      "metadata": {
        "colab": {
          "base_uri": "https://localhost:8080/"
        },
        "id": "mPcpBLiPbVcG",
        "outputId": "30888393-bd10-4a58-9b6a-a036d9905847"
      },
      "execution_count": null,
      "outputs": [
        {
          "output_type": "stream",
          "name": "stdout",
          "text": [
            "paperino\n"
          ]
        }
      ]
    },
    {
      "cell_type": "code",
      "source": [
        "# Curiosità: for-else\n",
        "\n",
        "for n in range(2, 10):\n",
        "    for x in range(2, n):\n",
        "        if n % x == 0:\n",
        "            print( n, 'equals', x, '*', n/x)\n",
        "            break\n",
        "    else:\n",
        "        # loop fell through without finding a factor\n",
        "        print(n, 'is a prime number')\n",
        "\n",
        "\n"
      ],
      "metadata": {
        "colab": {
          "base_uri": "https://localhost:8080/"
        },
        "id": "QGpC1sD7x5Zs",
        "outputId": "a578caf9-20dc-4959-c9c4-75153ca8cf35"
      },
      "execution_count": null,
      "outputs": [
        {
          "output_type": "stream",
          "name": "stdout",
          "text": [
            "2 is a prime number\n",
            "3 is a prime number\n",
            "4 equals 2 * 2.0\n",
            "5 is a prime number\n",
            "6 equals 2 * 3.0\n",
            "7 is a prime number\n",
            "8 equals 2 * 4.0\n",
            "9 equals 3 * 3.0\n"
          ]
        }
      ]
    },
    {
      "cell_type": "markdown",
      "source": [
        "**Iteratori e generatori**"
      ],
      "metadata": {
        "id": "bovwoJfK_2xi"
      }
    },
    {
      "cell_type": "code",
      "source": [
        "# ITERATORI\n",
        "\n",
        "# list of cities\n",
        "cities = [\"Berlin\", \"Vienna\", \"Zurich\"]\n",
        " \n",
        "# initialize the object\n",
        "iterator_obj = iter(cities)\n",
        " \n",
        "print(next(iterator_obj))\n",
        "print(next(iterator_obj))\n",
        "print(next(iterator_obj))\n",
        "print(next(iterator_obj))\n"
      ],
      "metadata": {
        "id": "R0IcsVrPAM_u"
      },
      "execution_count": null,
      "outputs": []
    },
    {
      "cell_type": "code",
      "source": [
        "# Iterators keep state (iterable vs iterator objects)\n",
        "\n",
        "iterabile = [1, 2, 3, 4, 5]\n",
        "iteratore = iter(iterabile)\n",
        "\n",
        "for i in range(4):\n",
        "  print(iterabile[i])\n",
        "\n",
        "for j in range(4):\n",
        "  print(iterabile[j])\n",
        "\n",
        "print(\"\\nIterator\\n\")\n",
        "\n",
        "for it in range(4):\n",
        "  print(iteratore.__next__())\n",
        "\n",
        "for itt in range(4):\n",
        "  print(iteratore.__next__())\n"
      ],
      "metadata": {
        "colab": {
          "base_uri": "https://localhost:8080/",
          "height": 504
        },
        "id": "KVDOZkKgAvjW",
        "outputId": "91fd5f1a-b710-4c6f-f9d9-4e9e96c4aed8"
      },
      "execution_count": null,
      "outputs": [
        {
          "output_type": "stream",
          "name": "stdout",
          "text": [
            "1\n",
            "2\n",
            "3\n",
            "4\n",
            "1\n",
            "2\n",
            "3\n",
            "4\n",
            "\n",
            "Iterator\n",
            "\n",
            "1\n",
            "2\n",
            "3\n",
            "4\n",
            "5\n"
          ]
        },
        {
          "output_type": "error",
          "ename": "StopIteration",
          "evalue": "ignored",
          "traceback": [
            "\u001b[0;31m---------------------------------------------------------------------------\u001b[0m",
            "\u001b[0;31mStopIteration\u001b[0m                             Traceback (most recent call last)",
            "\u001b[0;32m<ipython-input-38-698c9d71dc10>\u001b[0m in \u001b[0;36m<module>\u001b[0;34m\u001b[0m\n\u001b[1;32m     16\u001b[0m \u001b[0;34m\u001b[0m\u001b[0m\n\u001b[1;32m     17\u001b[0m \u001b[0;32mfor\u001b[0m \u001b[0mitt\u001b[0m \u001b[0;32min\u001b[0m \u001b[0mrange\u001b[0m\u001b[0;34m(\u001b[0m\u001b[0;36m4\u001b[0m\u001b[0;34m)\u001b[0m\u001b[0;34m:\u001b[0m\u001b[0;34m\u001b[0m\u001b[0;34m\u001b[0m\u001b[0m\n\u001b[0;32m---> 18\u001b[0;31m   \u001b[0mprint\u001b[0m\u001b[0;34m(\u001b[0m\u001b[0miteratore\u001b[0m\u001b[0;34m.\u001b[0m\u001b[0m__next__\u001b[0m\u001b[0;34m(\u001b[0m\u001b[0;34m)\u001b[0m\u001b[0;34m)\u001b[0m\u001b[0;34m\u001b[0m\u001b[0;34m\u001b[0m\u001b[0m\n\u001b[0m",
            "\u001b[0;31mStopIteration\u001b[0m: "
          ]
        }
      ]
    },
    {
      "cell_type": "code",
      "source": [
        "# range() returns an iterable immutable object, but is not an iterator.\n",
        "\n",
        "non_iteratore = range(10)\n",
        "\n",
        "iteratore = iter(non_iteratore)\n",
        "\n",
        "print(type(non_iteratore))\n",
        "print(type(iteratore))\n",
        "\n",
        "iteratore.__next__()\n"
      ],
      "metadata": {
        "colab": {
          "base_uri": "https://localhost:8080/"
        },
        "id": "_U8w1jOjjnEV",
        "outputId": "ec446193-0ab4-430d-8b33-ec255f013601"
      },
      "execution_count": null,
      "outputs": [
        {
          "output_type": "stream",
          "name": "stdout",
          "text": [
            "<class 'range'>\n",
            "<class 'range_iterator'>\n"
          ]
        },
        {
          "output_type": "execute_result",
          "data": {
            "text/plain": [
              "0"
            ]
          },
          "metadata": {},
          "execution_count": 7
        }
      ]
    },
    {
      "cell_type": "code",
      "source": [
        "import itertools\n",
        "\n",
        "iterator1 = iter([1, 2, 3])\n",
        "iterator2 = iter([4, 5, 6])\n",
        "\n",
        "iterator3 = itertools.chain(iterator1, iterator2)\n",
        "\n",
        "for i in range(7):\n",
        "  print(iterator3.__next__())"
      ],
      "metadata": {
        "colab": {
          "base_uri": "https://localhost:8080/",
          "height": 328
        },
        "id": "SrooZO8bhtk4",
        "outputId": "71680c84-8cbb-424e-d36d-83da82653b85"
      },
      "execution_count": null,
      "outputs": [
        {
          "output_type": "stream",
          "name": "stdout",
          "text": [
            "1\n",
            "2\n",
            "3\n",
            "4\n",
            "5\n",
            "6\n"
          ]
        },
        {
          "output_type": "error",
          "ename": "StopIteration",
          "evalue": "ignored",
          "traceback": [
            "\u001b[0;31m---------------------------------------------------------------------------\u001b[0m",
            "\u001b[0;31mStopIteration\u001b[0m                             Traceback (most recent call last)",
            "\u001b[0;32m<ipython-input-51-4fae76a2ca35>\u001b[0m in \u001b[0;36m<module>\u001b[0;34m\u001b[0m\n\u001b[1;32m      7\u001b[0m \u001b[0;34m\u001b[0m\u001b[0m\n\u001b[1;32m      8\u001b[0m \u001b[0;32mfor\u001b[0m \u001b[0mi\u001b[0m \u001b[0;32min\u001b[0m \u001b[0mrange\u001b[0m\u001b[0;34m(\u001b[0m\u001b[0;36m7\u001b[0m\u001b[0;34m)\u001b[0m\u001b[0;34m:\u001b[0m\u001b[0;34m\u001b[0m\u001b[0;34m\u001b[0m\u001b[0m\n\u001b[0;32m----> 9\u001b[0;31m   \u001b[0mprint\u001b[0m\u001b[0;34m(\u001b[0m\u001b[0miterator3\u001b[0m\u001b[0;34m.\u001b[0m\u001b[0m__next__\u001b[0m\u001b[0;34m(\u001b[0m\u001b[0;34m)\u001b[0m\u001b[0;34m)\u001b[0m\u001b[0;34m\u001b[0m\u001b[0;34m\u001b[0m\u001b[0m\n\u001b[0m",
            "\u001b[0;31mStopIteration\u001b[0m: "
          ]
        }
      ]
    },
    {
      "cell_type": "code",
      "source": [
        "count = itertools.count(10)\n",
        "\n",
        "for i in range(10):\n",
        "  print(count.__next__())"
      ],
      "metadata": {
        "colab": {
          "base_uri": "https://localhost:8080/"
        },
        "id": "lKKGoldeis-y",
        "outputId": "5ebda852-dcfb-4f18-dbf7-19cfda41ad63"
      },
      "execution_count": null,
      "outputs": [
        {
          "output_type": "stream",
          "name": "stdout",
          "text": [
            "10\n",
            "11\n",
            "12\n",
            "13\n",
            "14\n",
            "15\n",
            "16\n",
            "17\n",
            "18\n",
            "19\n"
          ]
        }
      ]
    },
    {
      "cell_type": "code",
      "source": [
        "# Roughly equivalent to this generator function (NB: generator functions have \"yield\", no \"return\"):\n",
        "\n",
        "def count(start=0, step=1):\n",
        "    # count(10) --> 10 11 12 13 14 ...\n",
        "    # count(2.5, 0.5) --> 2.5 3.0 3.5 ...\n",
        "    n = start\n",
        "    while True:\n",
        "        yield n\n",
        "        n += step\n",
        "\n",
        "count = count(10)\n",
        "\n",
        "for i in range(10):\n",
        "  print(count.__next__())"
      ],
      "metadata": {
        "colab": {
          "base_uri": "https://localhost:8080/"
        },
        "id": "pG69f3r-i3mo",
        "outputId": "2c118591-37e7-4e2d-9e90-418ca52c10ae"
      },
      "execution_count": null,
      "outputs": [
        {
          "output_type": "stream",
          "name": "stdout",
          "text": [
            "10\n",
            "11\n",
            "12\n",
            "13\n",
            "14\n",
            "15\n",
            "16\n",
            "17\n",
            "18\n",
            "19\n"
          ]
        }
      ]
    },
    {
      "cell_type": "code",
      "source": [
        "# Scrivere una generator function per generare i primi 20 numeri pari.\n",
        "\n",
        "import itertools\n",
        "\n",
        "def iter_even():\n",
        "  pass"
      ],
      "metadata": {
        "id": "FzpGX0pil4Sm"
      },
      "execution_count": null,
      "outputs": []
    },
    {
      "cell_type": "code",
      "source": [
        "def first_n(n):\n",
        "  '''Build and return a list'''\n",
        "  num, nums = 0, []\n",
        "  while num < n:\n",
        "    nums.append(num)\n",
        "    num += 1\n",
        "  return nums\n",
        "    \n",
        "first_numbers = first_n(1000000)\n",
        "\n",
        "for i in range(40):\n",
        "  print(first_numbers[i])\n",
        "\n",
        "# Il programma deve stampare i primi N numeri.\n",
        "# In questo esempio genero (tramite funzione) una lista di 1000000 elementi \n",
        "# e ne stampo i primi 40 (non ha molto senso; che spreco inutile di memoria!)\n",
        "# Riscrivere il programma utilizzando le generator function."
      ],
      "metadata": {
        "id": "xIWjkOLxmqa3"
      },
      "execution_count": null,
      "outputs": []
    }
  ]
}