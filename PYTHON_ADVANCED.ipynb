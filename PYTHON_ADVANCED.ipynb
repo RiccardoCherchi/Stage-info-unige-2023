{
  "nbformat": 4,
  "nbformat_minor": 0,
  "metadata": {
    "colab": {
      "provenance": [],
      "include_colab_link": true
    },
    "kernelspec": {
      "name": "python3",
      "display_name": "Python 3"
    },
    "language_info": {
      "name": "python"
    }
  },
  "cells": [
    {
      "cell_type": "markdown",
      "metadata": {
        "id": "view-in-github",
        "colab_type": "text"
      },
      "source": [
        "<a href=\"https://colab.research.google.com/github/RiccardoCherchi/Stage-info-unige-2023/blob/main/PYTHON_ADVANCED.ipynb\" target=\"_parent\"><img src=\"https://colab.research.google.com/assets/colab-badge.svg\" alt=\"Open In Colab\"/></a>"
      ]
    },
    {
      "cell_type": "code",
      "source": [
        "# Escape Characters..\n",
        "\n",
        "print(\"ciao\\nciao\")\n",
        "print(\"ciao\\\\nciao\")\n",
        "print(\"ciao\\tciao\")\n",
        "print(\"\\\"Python\\\"\")"
      ],
      "metadata": {
        "id": "bbCYup9oyiJY",
        "outputId": "cec88e84-6ef1-46eb-b9f7-05ef713aaf1a",
        "colab": {
          "base_uri": "https://localhost:8080/"
        }
      },
      "execution_count": 71,
      "outputs": [
        {
          "output_type": "stream",
          "name": "stdout",
          "text": [
            "ciao\n",
            "ciao\n",
            "ciao\\nciao\n",
            "ciao\tciao\n",
            "\"Python\"\n"
          ]
        }
      ]
    },
    {
      "cell_type": "code",
      "source": [
        "# if-elif-else\n",
        "\n",
        "x = 1\n",
        "if(x == 1): print(\"1\")\n",
        "if(x == 1):\n",
        "  print(\"hello\")\n",
        "  print(\"Python\")\n",
        "elif(x == 2):\n",
        "  print(\"hello\")\n",
        "else:\n",
        "  print(\"Python\")"
      ],
      "metadata": {
        "id": "TvqtqIlZzXEi",
        "outputId": "5d4f9ec1-144b-413c-f280-de68744ccd14",
        "colab": {
          "base_uri": "https://localhost:8080/"
        }
      },
      "execution_count": 72,
      "outputs": [
        {
          "output_type": "stream",
          "name": "stdout",
          "text": [
            "1\n",
            "hello\n",
            "Python\n"
          ]
        }
      ]
    },
    {
      "cell_type": "code",
      "source": [
        "# Swapping variable with output formatting \n",
        "\n",
        "a = 2\n",
        "b = 5\n",
        "aux = a\n",
        "a = b\n",
        "b = aux\n",
        "\n",
        "# del aux \n",
        "\n",
        "print(\"a : %d, b : %d\" % (a, b)) # old c-style string formatting\n",
        "print(\"a : {}, b : {}\".format(a, b)) # formatting output using the format method\n",
        "print(\"a : {0:2.2f}, b : {1:2.2f}\".format(a, b)) # formatting output using the format method"
      ],
      "metadata": {
        "id": "OhhbLHbvbu4_",
        "outputId": "d58c3572-7951-4a49-df98-27d123d770ef",
        "colab": {
          "base_uri": "https://localhost:8080/"
        }
      },
      "execution_count": 73,
      "outputs": [
        {
          "output_type": "stream",
          "name": "stdout",
          "text": [
            "a : 5, b : 2\n",
            "a : 5, b : 2\n",
            "a : 5.00, b : 2.00\n"
          ]
        }
      ]
    },
    {
      "cell_type": "code",
      "source": [
        "# Assign multiple values (swap without aux variable)\n",
        "\n",
        "a = 2\n",
        "b = 5\n",
        "a, b = b, a\n",
        "\n",
        "print(\"a : {}, b : {}\".format(a, b))"
      ],
      "metadata": {
        "id": "CvnNFVQfeKuT",
        "outputId": "133b5ea6-c8ec-4fdb-ac31-4bc5396681a4",
        "colab": {
          "base_uri": "https://localhost:8080/"
        }
      },
      "execution_count": 74,
      "outputs": [
        {
          "output_type": "stream",
          "name": "stdout",
          "text": [
            "a : 5, b : 2\n"
          ]
        }
      ]
    },
    {
      "cell_type": "code",
      "source": [
        "# Swapping variables using XOR operator\n",
        "\n",
        "a = a ^ b\n",
        "b = a ^ b\n",
        "a = a ^ b\n",
        "\n",
        "print(\"a : {}, b : {}\".format(a, b))"
      ],
      "metadata": {
        "colab": {
          "base_uri": "https://localhost:8080/"
        },
        "id": "Y83D86G0emhO",
        "outputId": "7f12c1b0-0c78-4a9b-bcfe-c99d02818f71"
      },
      "execution_count": 75,
      "outputs": [
        {
          "output_type": "stream",
          "name": "stdout",
          "text": [
            "a : 2, b : 5\n"
          ]
        }
      ]
    },
    {
      "cell_type": "code",
      "source": [
        "# boolean\n",
        "\n",
        "x = True\n",
        "y = False \n",
        "\n",
        "# La prima lettera sempre maiuscola!\n",
        "# x = true --> NameError"
      ],
      "metadata": {
        "id": "NjtU28lcl6vE"
      },
      "execution_count": 76,
      "outputs": []
    },
    {
      "cell_type": "code",
      "source": [
        "print(x and y)\n",
        "print(x or y)\n",
        "print(not(x))\n",
        "print(x and y or x)\n",
        "\n",
        "print(x+x-y) # Curiosità: True e False values are actually integers (0 and 1)\n",
        "print(True == 1)\n",
        "print(False == 0)"
      ],
      "metadata": {
        "colab": {
          "base_uri": "https://localhost:8080/"
        },
        "id": "gd6TsWgCmUG7",
        "outputId": "dcfaf62f-7388-426c-9da1-9e9f69b930b8"
      },
      "execution_count": 77,
      "outputs": [
        {
          "output_type": "stream",
          "name": "stdout",
          "text": [
            "False\n",
            "True\n",
            "False\n",
            "True\n",
            "2\n",
            "True\n",
            "True\n"
          ]
        }
      ]
    },
    {
      "cell_type": "code",
      "source": [
        "# complex number (numeri complessi, per chi li conosce da matematica o fisica)\n",
        "\n",
        "c = complex(3, 4)\n",
        "\n",
        "print(\"real part: \", c.real)\n",
        "print(\"imaginary part: \", c.imag)"
      ],
      "metadata": {
        "colab": {
          "base_uri": "https://localhost:8080/"
        },
        "id": "kNGxCURolcfl",
        "outputId": "a6b5b5e9-146d-447b-a65e-bd1b75f45321"
      },
      "execution_count": 78,
      "outputs": [
        {
          "output_type": "stream",
          "name": "stdout",
          "text": [
            "real part:  3.0\n",
            "imaginary part:  4.0\n"
          ]
        }
      ]
    },
    {
      "cell_type": "code",
      "source": [
        "# Liste\n",
        "\n",
        "lista = [5, [2,3,[3,4]], (2,6,8), \"hello\", [True,2], []]\n",
        "\n",
        "print(lista[1])\n",
        "print(lista[1][2]) \n",
        "print(lista[1][2][1])"
      ],
      "metadata": {
        "colab": {
          "base_uri": "https://localhost:8080/"
        },
        "id": "HRmwEEs3pM0C",
        "outputId": "4687fc03-8055-45dc-af42-38f4044b19f1"
      },
      "execution_count": 79,
      "outputs": [
        {
          "output_type": "stream",
          "name": "stdout",
          "text": [
            "[2, 3, [3, 4]]\n",
            "[3, 4]\n",
            "4\n"
          ]
        }
      ]
    },
    {
      "cell_type": "code",
      "source": [
        "# Write a Python program which takes two digits m (row) and n (column) as input and generates a two-dimensional list. \n",
        "# The element value in the i-th row and j-th column of the array should be i*j.\n",
        "# To access an element: list_name[row][column]\n",
        "\n",
        "def list_gen(n, m):\n",
        "  res = []\n",
        "  for i in range(n + 1):\n",
        "    row = []\n",
        "    for j in range(m + 1):\n",
        "      row.append(i * j)\n",
        "    res.append(row)\n",
        "  return res\n",
        "\n",
        "print(list_gen(2, 5))\n",
        "\n",
        "# Completare"
      ],
      "metadata": {
        "id": "DVmoOndY9XL7",
        "outputId": "ad28a86e-2767-408b-fc8b-fcc8ecfdcce4",
        "colab": {
          "base_uri": "https://localhost:8080/"
        }
      },
      "execution_count": 80,
      "outputs": [
        {
          "output_type": "stream",
          "name": "stdout",
          "text": [
            "[[0, 0, 0, 0, 0, 0], [0, 1, 2, 3, 4, 5], [0, 2, 4, 6, 8, 10]]\n"
          ]
        }
      ]
    },
    {
      "cell_type": "markdown",
      "source": [
        "Lambda Functions"
      ],
      "metadata": {
        "id": "0mgYcclA9ZoM"
      }
    },
    {
      "cell_type": "code",
      "source": [
        "# A lambda function is a small anonymous function.\n",
        "# A lambda function can take any number of arguments, but can only have one expression.\n",
        "\n",
        "# Add 10 to argument a, and return the result:\n",
        "x = lambda a : a + 10\n",
        "print(x(5))"
      ],
      "metadata": {
        "id": "xQ0wwL-g9bl6",
        "outputId": "6cf249d8-d025-4c4e-f312-340f278dd9c3",
        "colab": {
          "base_uri": "https://localhost:8080/"
        }
      },
      "execution_count": 81,
      "outputs": [
        {
          "output_type": "stream",
          "name": "stdout",
          "text": [
            "15\n"
          ]
        }
      ]
    },
    {
      "cell_type": "code",
      "source": [
        "# Multiply argument a with argument b and return the result\n",
        "\n",
        "mult = lambda a, b: a * b\n",
        "\n",
        "print(mult(2,3))\n",
        "\n",
        "# Fare con Lambda function"
      ],
      "metadata": {
        "id": "O0luC9iA9deF",
        "outputId": "80aecea3-0ff8-4d57-ffdd-5b84936222ea",
        "colab": {
          "base_uri": "https://localhost:8080/"
        }
      },
      "execution_count": 82,
      "outputs": [
        {
          "output_type": "stream",
          "name": "stdout",
          "text": [
            "6\n"
          ]
        }
      ]
    },
    {
      "cell_type": "markdown",
      "source": [
        "**Dequeue** Come abbiamo visto a lezione, le liste non sono efficienti se usate come code. Per le code, è meglio usare gli oggetti della classe deque della libreria collections (che sono implementati come liste collegate, linked list)."
      ],
      "metadata": {
        "id": "NNb_mYbDsrOD"
      }
    },
    {
      "cell_type": "code",
      "source": [
        "from timeit import timeit\n",
        "from collections import deque\n",
        "\n",
        "# timeit number of executions\n",
        "tnumber = 100\n",
        "\n",
        "N = 10000000\n",
        "ls = list(range(N))\n",
        "dq = deque(range(N))"
      ],
      "metadata": {
        "id": "tE5P5rRrshZ-"
      },
      "execution_count": 83,
      "outputs": []
    },
    {
      "cell_type": "code",
      "source": [
        "# Adding elements to the end: append\n",
        "\n",
        "t1 = timeit(lambda: ls.append(42), number=tnumber)\n",
        "t2 = timeit(lambda: dq.append(42), number=tnumber)\n",
        "\n",
        "print(\"Adding elements to the end: append\")\n",
        "print(t1, t2)\n",
        "\n",
        "# Adding elements to the start: insert vs appendleft\n",
        "\n",
        "print(\"Adding elements to the start: insert vs appendleft\")\n",
        "t3 = timeit(lambda: ls.insert(0, 42), number=tnumber)\n",
        "t4 = timeit(lambda: dq.appendleft(42), number=tnumber)\n",
        "\n",
        "print(t3, t4)"
      ],
      "metadata": {
        "colab": {
          "base_uri": "https://localhost:8080/"
        },
        "id": "jDXuBNKvsu4-",
        "outputId": "114f43e4-2a95-42e5-f11a-53496a023812"
      },
      "execution_count": 84,
      "outputs": [
        {
          "output_type": "stream",
          "name": "stdout",
          "text": [
            "Adding elements to the end: append\n",
            "5.3142000069783535e-05 3.450999997767212e-05\n",
            "Adding elements to the start: insert vs appendleft\n",
            "2.1237512049999623 1.9749999978557753e-05\n"
          ]
        }
      ]
    },
    {
      "cell_type": "code",
      "source": [
        "# Removing elements from the end: pop\n",
        "t1 = timeit(lambda: ls.pop(), number=tnumber)\n",
        "t2 = timeit(lambda: dq.pop(), number=tnumber)\n",
        "\n",
        "print(\"Removing elements: pop\")\n",
        "print(t1, t2)\n",
        "# Removing elements from the start: pop vs popleft\n",
        "\n",
        "t3 = timeit(lambda: ls.pop(0), number=tnumber)\n",
        "t4 = timeit(lambda: dq.popleft(), number=tnumber)\n",
        "\n",
        "print(\"Removing elements: \")\n",
        "print(t3, t4)"
      ],
      "metadata": {
        "id": "c0pLWnRRteII",
        "outputId": "701d24c8-bbd9-4881-c9af-e889e8351714",
        "colab": {
          "base_uri": "https://localhost:8080/"
        }
      },
      "execution_count": 85,
      "outputs": [
        {
          "output_type": "stream",
          "name": "stdout",
          "text": [
            "Removing elements: pop\n",
            "0.00029897299998538074 2.58050000638832e-05\n",
            "Removing elements: \n",
            "1.2127127090000158 2.8205999910824175e-05\n"
          ]
        }
      ]
    },
    {
      "cell_type": "markdown",
      "source": [
        "**List Comprehension**"
      ],
      "metadata": {
        "id": "OFPD34U0uo04"
      }
    },
    {
      "cell_type": "code",
      "source": [
        "# Count the number of space in a string\n",
        "\n",
        "string = \" hello Python !\"\n",
        "\n",
        "q0 = len([char for char in string if char == \" \"])\n",
        "\n",
        "print(q0)"
      ],
      "metadata": {
        "colab": {
          "base_uri": "https://localhost:8080/"
        },
        "id": "0zrWTDEuuqXv",
        "outputId": "6d03de8b-2348-4d64-be46-9cbb072fbe91"
      },
      "execution_count": 86,
      "outputs": [
        {
          "output_type": "stream",
          "name": "stdout",
          "text": [
            "3\n"
          ]
        }
      ]
    },
    {
      "cell_type": "code",
      "source": [
        "# Find all of the words in a string that are less than 6 letters\n",
        "\n",
        "string= \" hello Python !\"\n",
        "\n",
        "words = string.split(\" \") # The split() method splits a string into a list. \n",
        "                          # You can specify the separator, default separator is any whitespace. \n",
        "\n",
        "q1 = [w for w in words if len(w) < 6]\n",
        "print(q1)"
      ],
      "metadata": {
        "id": "5PZWl5-WvR-f",
        "outputId": "9c416ac9-59f8-4eaf-d3aa-19d78b28289c",
        "colab": {
          "base_uri": "https://localhost:8080/"
        }
      },
      "execution_count": 87,
      "outputs": [
        {
          "output_type": "stream",
          "name": "stdout",
          "text": [
            "['', 'hello', '!']\n"
          ]
        }
      ]
    },
    {
      "cell_type": "code",
      "source": [
        "numbers = [0, 1, 2, 3, 4, 5, 6, 7, 8, 9]\n",
        "\n",
        "# check the 10 numbers. \n",
        "# If i is divisible by 2, then Even is appended to the obj list. If not, Odd is appended.\n",
        "# Risolvi con list comprehension (hint: if-else with list comprehension)\n",
        "\n",
        "res = [\"Even\" if n % 2 == 0 else \"Odd\" for n in numbers]\n",
        "print(res)"
      ],
      "metadata": {
        "id": "dUTrnuxBwt_B",
        "outputId": "7fd1e58a-a415-483b-d4e0-b0428d64704f",
        "colab": {
          "base_uri": "https://localhost:8080/"
        }
      },
      "execution_count": 88,
      "outputs": [
        {
          "output_type": "stream",
          "name": "stdout",
          "text": [
            "['Even', 'Odd', 'Even', 'Odd', 'Even', 'Odd', 'Even', 'Odd', 'Even', 'Odd']\n"
          ]
        }
      ]
    },
    {
      "cell_type": "code",
      "source": [
        "numbers = range(10)\n",
        "\n",
        "# crea una lista costituita dai quadrati di 0, 1, 2, ..., 9 --> [0, 1, 4, 9, 16, ...]\n",
        "# Risolvi con list comprehension\n",
        "l_res = [i ** 2 for i in numbers]\n",
        "\n",
        "print(res)\n",
        "\n",
        "# Ripeti esercizio con generator expression. Cosa cambia (sintassi e comportamento)?\n",
        "g_res = (i ** 2 for i in numbers)\n",
        "\n",
        "print(g_res)\n",
        "\n",
        "# la differenza e' nel tipo di ritorno uno ritorna una lista\n",
        "# con i rusltati gia calcolati mentre nel secodno caso viene generato\n",
        "# un generatore che genere i numeri calcolati in un secondo momento\n",
        "\n"
      ],
      "metadata": {
        "id": "hUiVRLGzxh8o",
        "outputId": "3b7f5687-09a6-4f51-9b0b-a66f2c4a4d5e",
        "colab": {
          "base_uri": "https://localhost:8080/"
        }
      },
      "execution_count": 89,
      "outputs": [
        {
          "output_type": "stream",
          "name": "stdout",
          "text": [
            "['Even', 'Odd', 'Even', 'Odd', 'Even', 'Odd', 'Even', 'Odd', 'Even', 'Odd']\n",
            "<generator object <genexpr> at 0x7f1ce5aa5ba0>\n"
          ]
        }
      ]
    },
    {
      "cell_type": "code",
      "source": [
        "# Write a Python program which takes two digits m (row) and n (column) as input and generates a two-dimensional list. \n",
        "# The element value in the i-th row and j-th column of the array should be i*j.\n",
        "# To access an element: list_name[row][column]\n",
        "\n",
        "# E' l'esercizio di prima ma con list comprehension\n",
        "\n",
        "def list_gen(n, m):\n",
        "  return [[i*j for i in range(n+1)] for j in range(m + 1)]\n",
        "\n",
        "print(list_gen(2,5))"
      ],
      "metadata": {
        "id": "ZurGGLzbAsJ-",
        "outputId": "a4ed6d10-3ef7-48ea-cc9d-bbe63a0d6790",
        "colab": {
          "base_uri": "https://localhost:8080/"
        }
      },
      "execution_count": 90,
      "outputs": [
        {
          "output_type": "stream",
          "name": "stdout",
          "text": [
            "[[0, 0, 0], [0, 1, 2], [0, 2, 4], [0, 3, 6], [0, 4, 8], [0, 5, 10]]\n"
          ]
        }
      ]
    },
    {
      "cell_type": "code",
      "source": [
        "# Dict comprehension (comprensione di dizionari)\n",
        "\n",
        "old_price = {'milk': 1.02, 'coffee': 2.5, 'bread': 2.5}\n",
        "\n",
        "# Incrementa il prezzo di ogni prodotto di 0.2 utilizzando dict comprehension.\n",
        "\n",
        "res = {k: v + 0.2 for (k,v) in old_price.items()}\n",
        "\n",
        "print(res)"
      ],
      "metadata": {
        "id": "mN6K8b-Q4hK2",
        "outputId": "7f1b9a9a-c954-4aac-ec8a-7a81b755d3e3",
        "colab": {
          "base_uri": "https://localhost:8080/"
        }
      },
      "execution_count": 91,
      "outputs": [
        {
          "output_type": "stream",
          "name": "stdout",
          "text": [
            "{'milk': 1.22, 'coffee': 2.7, 'bread': 2.7}\n"
          ]
        }
      ]
    },
    {
      "cell_type": "markdown",
      "source": [],
      "metadata": {
        "id": "Lg_zu-BePOEw"
      }
    },
    {
      "cell_type": "code",
      "source": [
        "# Tuple (\"liste\" immutabili)\n",
        "\n",
        "tp1 = tuple() \n",
        "tp2 = tuple(\"hello\")\n",
        "\n",
        "print(tp1, type(tp1))\n",
        "print(tp2, type(tp2))\n",
        "\n",
        "# Non puoi aggiungere o rimuovere elementi a una tupla."
      ],
      "metadata": {
        "colab": {
          "base_uri": "https://localhost:8080/"
        },
        "id": "XOIFX-CFyZJl",
        "outputId": "cbad8467-c904-470e-81d1-1da9b8ab4744"
      },
      "execution_count": 92,
      "outputs": [
        {
          "output_type": "stream",
          "name": "stdout",
          "text": [
            "() <class 'tuple'>\n",
            "('h', 'e', 'l', 'l', 'o') <class 'tuple'>\n"
          ]
        }
      ]
    },
    {
      "cell_type": "code",
      "source": [
        "# Attenzione alle tuple con un singolo elemento!\n",
        "\n",
        "mon1 = ('Lunedì',) # ok\n",
        "mon2 = ('Lunedì') # wrong\n",
        "\n",
        "print(mon1[0]) \n",
        "print(mon2[0]) \n",
        "\n",
        "print(type(mon1))\n",
        "print(type(mon2))\n"
      ],
      "metadata": {
        "colab": {
          "base_uri": "https://localhost:8080/"
        },
        "id": "E6T9BJHgylsB",
        "outputId": "4df12dc0-2ca1-4c94-edc7-4946ab106810"
      },
      "execution_count": 93,
      "outputs": [
        {
          "output_type": "stream",
          "name": "stdout",
          "text": [
            "Lunedì\n",
            "L\n",
            "<class 'tuple'>\n",
            "<class 'str'>\n"
          ]
        }
      ]
    },
    {
      "cell_type": "code",
      "source": [
        "# Dizionari\n",
        "\n",
        "dizionario = {}\n",
        "\n",
        "dizionario[\"hello\"] = 1 # add key-value\n",
        "\n",
        "dizionario"
      ],
      "metadata": {
        "colab": {
          "base_uri": "https://localhost:8080/"
        },
        "id": "eJThvX0t1QFu",
        "outputId": "99e96c03-4a56-4981-9e79-ff8e1749ffcc"
      },
      "execution_count": 94,
      "outputs": [
        {
          "output_type": "execute_result",
          "data": {
            "text/plain": [
              "{'hello': 1}"
            ]
          },
          "metadata": {},
          "execution_count": 94
        }
      ]
    },
    {
      "cell_type": "code",
      "source": [
        "# Esegui e osserva output\n",
        "\n",
        "thisdict = {\n",
        "  \"brand\": \"Ford\",\n",
        "  \"model\": \"Mustang\",\n",
        "  \"year\": 1964,\n",
        "  \"id\": \"AAK9291\"\n",
        "}\n",
        "\n",
        "print(thisdict.keys())\n",
        "print(thisdict.values())\n",
        "print(thisdict.items())\n",
        "print(len(thisdict))\n",
        "\n",
        "print(thisdict.get(\"year\"))\n",
        "\n",
        "print(thisdict.pop(\"id\"))\n",
        "print(thisdict)"
      ],
      "metadata": {
        "colab": {
          "base_uri": "https://localhost:8080/"
        },
        "id": "WxLb7elx1uAw",
        "outputId": "a0d24732-b84f-4fd5-beb0-4ca794efa8ae"
      },
      "execution_count": 95,
      "outputs": [
        {
          "output_type": "stream",
          "name": "stdout",
          "text": [
            "dict_keys(['brand', 'model', 'year', 'id'])\n",
            "dict_values(['Ford', 'Mustang', 1964, 'AAK9291'])\n",
            "dict_items([('brand', 'Ford'), ('model', 'Mustang'), ('year', 1964), ('id', 'AAK9291')])\n",
            "4\n",
            "1964\n",
            "AAK9291\n",
            "{'brand': 'Ford', 'model': 'Mustang', 'year': 1964}\n"
          ]
        }
      ]
    },
    {
      "cell_type": "code",
      "source": [
        "# Set (insiemi)\n",
        "# Set items are unchangeable, meaning that we cannot change the items after the set has been created.\n",
        "# Once a set is created, you cannot change its items, but you can remove items and add new items.\n",
        "\n",
        "thisset = {\"apple\", \"banana\", \"cherry\", \"apple\"}\n",
        "\n",
        "thisset.add(\"orange\")\n",
        "thisset.add(\"banana\")\n",
        "\n",
        "print(thisset) # Sai spiegare il risultato?\n"
      ],
      "metadata": {
        "id": "sZsFlYAk-TW4",
        "outputId": "de9b4c2e-0ac0-4331-eb1f-b83576d842cc",
        "colab": {
          "base_uri": "https://localhost:8080/"
        }
      },
      "execution_count": 96,
      "outputs": [
        {
          "output_type": "stream",
          "name": "stdout",
          "text": [
            "{'apple', 'cherry', 'orange', 'banana'}\n"
          ]
        }
      ]
    },
    {
      "cell_type": "code",
      "source": [
        "# Unione e intersezione di insiemi\n",
        "\n",
        "set1 = {\"a\", \"b\" , \"c\"}\n",
        "set2 = {\"c\", \"d\"}\n",
        "\n",
        "set3 = set1.union(set2)\n",
        "set4 = set1.intersection(set2)\n",
        "\n",
        "print(set3)\n",
        "print(set4)"
      ],
      "metadata": {
        "colab": {
          "base_uri": "https://localhost:8080/"
        },
        "id": "s82swZj7_LcC",
        "outputId": "b6e949b1-2d57-4ccc-9d95-ea1993671d7c"
      },
      "execution_count": 97,
      "outputs": [
        {
          "output_type": "stream",
          "name": "stdout",
          "text": [
            "{'c', 'd', 'b', 'a'}\n",
            "{'c'}\n"
          ]
        }
      ]
    },
    {
      "cell_type": "markdown",
      "source": [
        "**Memory management**"
      ],
      "metadata": {
        "id": "PVIODSjPsU8M"
      }
    },
    {
      "cell_type": "code",
      "source": [
        "a = 5\n",
        "b = 5\n",
        "print(a == b)\n",
        "print(a is b)\n",
        "print(id(a))\n",
        "print(id(b))\n",
        "b = 7\n",
        "print (a is b)\n",
        "print(id(b))"
      ],
      "metadata": {
        "id": "ETvGU4-bsWsg",
        "outputId": "8eacb9f1-7177-489c-d4dd-05c368146ea2",
        "colab": {
          "base_uri": "https://localhost:8080/"
        }
      },
      "execution_count": 98,
      "outputs": [
        {
          "output_type": "stream",
          "name": "stdout",
          "text": [
            "True\n",
            "True\n",
            "9793216\n",
            "9793216\n",
            "False\n",
            "9793280\n"
          ]
        }
      ]
    },
    {
      "cell_type": "code",
      "source": [
        "a = 256\n",
        "b = 256\n",
        "print(id(a),\" \", id(b))\n",
        "print(a == b)\n",
        "print(a is b)\n",
        "\n",
        "c = 257\n",
        "d = 257\n",
        "print(id(c),\" \", id(d))\n",
        "print(c == d)\n",
        "print(c is d)"
      ],
      "metadata": {
        "id": "8CimBFTqsxpl",
        "outputId": "31e3ff2d-fa42-4c00-fd20-62cf158292d9",
        "colab": {
          "base_uri": "https://localhost:8080/"
        }
      },
      "execution_count": 99,
      "outputs": [
        {
          "output_type": "stream",
          "name": "stdout",
          "text": [
            "9801248   9801248\n",
            "True\n",
            "True\n",
            "139761115062384   139761440112272\n",
            "True\n",
            "False\n"
          ]
        }
      ]
    },
    {
      "cell_type": "code",
      "source": [
        "w = -10\n",
        "y = -10\n",
        "\n",
        "print(id(w))\n",
        "print(id(y))\n",
        "\n",
        "# cosa succede?\n",
        "\n",
        "# -10 e' al di fuori del range di (5 : 256) quindi il gestore di memoria di \n",
        "# python non ottimizza questo valore e assegna due indirizzi di memoria diversi"
      ],
      "metadata": {
        "id": "3ZSNawArtXje",
        "outputId": "ead4032d-cb7f-4f8f-9cce-83b61e6dbf02",
        "colab": {
          "base_uri": "https://localhost:8080/"
        }
      },
      "execution_count": 100,
      "outputs": [
        {
          "output_type": "stream",
          "name": "stdout",
          "text": [
            "139761440112592\n",
            "139761440112400\n"
          ]
        }
      ]
    },
    {
      "cell_type": "code",
      "source": [
        "i = 33\n",
        "ii = 33\n",
        "print(id(i))\n",
        "print(i is ii)\n",
        "del ii # delete one reference to the PyObject 33 (reference count --> 1)\n",
        "print(id(i)) "
      ],
      "metadata": {
        "colab": {
          "base_uri": "https://localhost:8080/"
        },
        "id": "yNcY52ulwgGK",
        "outputId": "b0c0d101-18df-494e-ed3a-8219579b6bd3"
      },
      "execution_count": 101,
      "outputs": [
        {
          "output_type": "stream",
          "name": "stdout",
          "text": [
            "9794112\n",
            "True\n",
            "9794112\n"
          ]
        }
      ]
    },
    {
      "cell_type": "code",
      "source": [
        "p1 = \"banana\"\n",
        "p2 = \"banana\"\n",
        "\n",
        "print(id(p1),\" \", id(p2))\n",
        "print(p1 == p2)\n",
        "print(p1 is p2)\n",
        "\n",
        "\n",
        "p3 = \"Lorem ipsum dolor sit amet\"\n",
        "p4 = \"Lorem ipsum dolor sit amet\"\n",
        "\n",
        "print(\"\\n\")\n",
        "print(id(p3),\" \", id(p4))\n",
        "print(p3 == p4)\n",
        "print(p3 is p4)"
      ],
      "metadata": {
        "colab": {
          "base_uri": "https://localhost:8080/"
        },
        "id": "keZKPzwmtibe",
        "outputId": "4cba0f53-7c02-4658-82ca-8e567744157d"
      },
      "execution_count": 102,
      "outputs": [
        {
          "output_type": "stream",
          "name": "stdout",
          "text": [
            "139763257089136   139763257089136\n",
            "True\n",
            "True\n",
            "\n",
            "\n",
            "139762708663232   139761115037744\n",
            "True\n",
            "False\n"
          ]
        }
      ]
    },
    {
      "cell_type": "code",
      "source": [
        "lista1 = [11, 51, 33]\n",
        "lista2 = [11, 51, 33]\n",
        "lista3 = lista1     #aliasing\n",
        "\n",
        "print(lista1 is lista2)\n",
        "print(lista1 is lista3)"
      ],
      "metadata": {
        "colab": {
          "base_uri": "https://localhost:8080/"
        },
        "id": "TVDfRykN_m7C",
        "outputId": "9e1a1a66-9abd-4a33-e1ef-17fe2cc3c117"
      },
      "execution_count": 103,
      "outputs": [
        {
          "output_type": "stream",
          "name": "stdout",
          "text": [
            "False\n",
            "True\n"
          ]
        }
      ]
    },
    {
      "cell_type": "code",
      "source": [
        "# None data type\n",
        "\n",
        "n = None\n",
        "p = None\n",
        "\n",
        "print(n == p)\n",
        "print(n is p)\n",
        "print(id(n))\n",
        "print(id(p))\n",
        "print(bool(None))"
      ],
      "metadata": {
        "colab": {
          "base_uri": "https://localhost:8080/"
        },
        "id": "z7rI_JzvZ8nR",
        "outputId": "0d68f494-a9c0-4905-dee6-5184a4e68b2d"
      },
      "execution_count": 104,
      "outputs": [
        {
          "output_type": "stream",
          "name": "stdout",
          "text": [
            "True\n",
            "True\n",
            "9488912\n",
            "9488912\n",
            "False\n"
          ]
        }
      ]
    },
    {
      "cell_type": "markdown",
      "source": [
        "**Python functions**"
      ],
      "metadata": {
        "id": "tjMkDMSC_fHP"
      }
    },
    {
      "cell_type": "code",
      "source": [
        "# None is the default return type of a Python function.\n",
        "\n",
        "def foo():\n",
        "  return\n",
        "\n",
        "foo = foo()\n",
        "type(foo)"
      ],
      "metadata": {
        "colab": {
          "base_uri": "https://localhost:8080/"
        },
        "id": "FmhvrsKzahgu",
        "outputId": "29f666be-2603-4773-8e15-972657ff0d64"
      },
      "execution_count": 105,
      "outputs": [
        {
          "output_type": "execute_result",
          "data": {
            "text/plain": [
              "NoneType"
            ]
          },
          "metadata": {},
          "execution_count": 105
        }
      ]
    },
    {
      "cell_type": "code",
      "execution_count": 106,
      "metadata": {
        "id": "I1o6EgcfN9Yg"
      },
      "outputs": [],
      "source": [
        "def somma(a, b):\n",
        "  return a + b"
      ]
    },
    {
      "cell_type": "code",
      "source": [
        "# docstrings (aggiungi documentazione/descrizione alla tua funzione)\n",
        "\n",
        "def sum(a, b):\n",
        "  \"\"\"Sum a and b.\n",
        "  Args:\n",
        "    a (int)\n",
        "    b (int)\n",
        "  \"\"\"\n",
        "\n",
        "  return a + b"
      ],
      "metadata": {
        "id": "O2RthjKCfvHf"
      },
      "execution_count": 107,
      "outputs": []
    },
    {
      "cell_type": "code",
      "source": [
        "# Python annotations\n",
        "\n",
        "def somma2(a: int, b: int) -> int: \n",
        "  return a + b"
      ],
      "metadata": {
        "id": "o4_63D1UOHpr"
      },
      "execution_count": 108,
      "outputs": []
    },
    {
      "cell_type": "code",
      "source": [
        "somma2(\"pippo\", \"ciao\")"
      ],
      "metadata": {
        "colab": {
          "base_uri": "https://localhost:8080/",
          "height": 36
        },
        "id": "0lZdH-SDOO7y",
        "outputId": "6018d928-8383-4d6f-85dd-a0e2ca55cd31"
      },
      "execution_count": 109,
      "outputs": [
        {
          "output_type": "execute_result",
          "data": {
            "text/plain": [
              "'pippociao'"
            ],
            "application/vnd.google.colaboratory.intrinsic+json": {
              "type": "string"
            }
          },
          "metadata": {},
          "execution_count": 109
        }
      ]
    },
    {
      "cell_type": "code",
      "source": [
        "sum.__doc__"
      ],
      "metadata": {
        "colab": {
          "base_uri": "https://localhost:8080/",
          "height": 36
        },
        "id": "8RGSUBtGgVZx",
        "outputId": "888d29cc-479f-4152-97b8-b7d3e226a070"
      },
      "execution_count": 110,
      "outputs": [
        {
          "output_type": "execute_result",
          "data": {
            "text/plain": [
              "'Sum a and b.\\n  Args:\\n    a (int)\\n    b (int)\\n  '"
            ],
            "application/vnd.google.colaboratory.intrinsic+json": {
              "type": "string"
            }
          },
          "metadata": {},
          "execution_count": 110
        }
      ]
    },
    {
      "cell_type": "code",
      "source": [
        "somma2.__annotations__"
      ],
      "metadata": {
        "colab": {
          "base_uri": "https://localhost:8080/"
        },
        "id": "wgMWLXUfg3mh",
        "outputId": "4cd63cf1-4482-4220-912f-7c22e43e1277"
      },
      "execution_count": 111,
      "outputs": [
        {
          "output_type": "execute_result",
          "data": {
            "text/plain": [
              "{'a': int, 'b': int, 'return': int}"
            ]
          },
          "metadata": {},
          "execution_count": 111
        }
      ]
    },
    {
      "cell_type": "code",
      "source": [
        "# Default arguments\n",
        "\n",
        "def somma(a = 0, b = 0):\n",
        "  return a+b\n",
        "\n",
        "print(somma(2,3))\n",
        "print(somma()) # tipo di ritorno è 0 (int) e non None\n",
        "print(somma(\"hello\", \" Py\")) # ma è sempre tipizzazione dinamica\n",
        "\n",
        "# Curiosità: esistono librerie (come mypy) per aggiungere un static type checker opzionale (non lo vediamo, non è compatibile con Colab)"
      ],
      "metadata": {
        "colab": {
          "base_uri": "https://localhost:8080/"
        },
        "id": "cmwRIhkLjgp4",
        "outputId": "57547322-ed58-4173-bed1-05851920dfd9"
      },
      "execution_count": 112,
      "outputs": [
        {
          "output_type": "stream",
          "name": "stdout",
          "text": [
            "5\n",
            "0\n",
            "hello Py\n"
          ]
        }
      ]
    },
    {
      "cell_type": "code",
      "source": [
        "# Funzioni ricorsive\n",
        "\n",
        "def fact(n):\n",
        "    \"\"\"Recursive function to find factorial\"\"\"\n",
        "    if n == 1:\n",
        "        return 1\n",
        "    else:\n",
        "        return (n * fact(n - 1))\n",
        "a = 6\n",
        "print(\"Factorial of\", a, \"=\", fact(a))"
      ],
      "metadata": {
        "id": "BlSKN610hOgs",
        "outputId": "b63c5933-6b46-42ef-a35f-c8436e38a225",
        "colab": {
          "base_uri": "https://localhost:8080/"
        }
      },
      "execution_count": 113,
      "outputs": [
        {
          "output_type": "stream",
          "name": "stdout",
          "text": [
            "Factorial of 6 = 720\n"
          ]
        }
      ]
    },
    {
      "cell_type": "code",
      "source": [
        "# Set\n",
        "\n",
        "insieme = {\"paperino\", \"pippo\", \"topolino\"}\n",
        "insieme2 = {\"zio paperone\", \"paperino\"}\n",
        "\n",
        "for x in insieme2:\n",
        "  if x in insieme:\n",
        "    print(x)"
      ],
      "metadata": {
        "colab": {
          "base_uri": "https://localhost:8080/"
        },
        "id": "mPcpBLiPbVcG",
        "outputId": "badc5f19-206e-40ae-ce87-1e5d62564c04"
      },
      "execution_count": 114,
      "outputs": [
        {
          "output_type": "stream",
          "name": "stdout",
          "text": [
            "paperino\n"
          ]
        }
      ]
    },
    {
      "cell_type": "code",
      "source": [
        "# Curiosità: for-else\n",
        "\n",
        "for n in range(2, 10):\n",
        "    for x in range(2, n):\n",
        "        if n % x == 0:\n",
        "            print( n, 'equals', x, '*', n/x)\n",
        "            break\n",
        "    else:\n",
        "        # loop fell through without finding a factor\n",
        "        print(n, 'is a prime number')\n",
        "\n",
        "\n"
      ],
      "metadata": {
        "colab": {
          "base_uri": "https://localhost:8080/"
        },
        "id": "QGpC1sD7x5Zs",
        "outputId": "e15434a9-7523-4fee-cc34-0be895fb20b5"
      },
      "execution_count": 115,
      "outputs": [
        {
          "output_type": "stream",
          "name": "stdout",
          "text": [
            "2 is a prime number\n",
            "3 is a prime number\n",
            "4 equals 2 * 2.0\n",
            "5 is a prime number\n",
            "6 equals 2 * 3.0\n",
            "7 is a prime number\n",
            "8 equals 2 * 4.0\n",
            "9 equals 3 * 3.0\n"
          ]
        }
      ]
    },
    {
      "cell_type": "code",
      "source": [],
      "metadata": {
        "id": "sIYOi7ltY7_t"
      },
      "execution_count": 115,
      "outputs": []
    },
    {
      "cell_type": "markdown",
      "source": [
        "**Iteratori e generatori**"
      ],
      "metadata": {
        "id": "bovwoJfK_2xi"
      }
    },
    {
      "cell_type": "code",
      "source": [
        "# ITERATORI\n",
        "\n",
        "# list of cities\n",
        "cities = [\"Berlin\", \"Vienna\", \"Zurich\"]\n",
        " \n",
        "# initialize the object\n",
        "iterator_obj = iter(cities)\n",
        " \n",
        "print(next(iterator_obj))\n",
        "print(next(iterator_obj))\n",
        "print(next(iterator_obj))\n",
        "print(next(iterator_obj))\n"
      ],
      "metadata": {
        "id": "R0IcsVrPAM_u",
        "outputId": "0c70b4d2-b5ce-420c-af15-e3b45e832509",
        "colab": {
          "base_uri": "https://localhost:8080/",
          "height": 263
        }
      },
      "execution_count": 116,
      "outputs": [
        {
          "output_type": "stream",
          "name": "stdout",
          "text": [
            "Berlin\n",
            "Vienna\n",
            "Zurich\n"
          ]
        },
        {
          "output_type": "error",
          "ename": "StopIteration",
          "evalue": "ignored",
          "traceback": [
            "\u001b[0;31m---------------------------------------------------------------------------\u001b[0m",
            "\u001b[0;31mStopIteration\u001b[0m                             Traceback (most recent call last)",
            "\u001b[0;32m<ipython-input-116-a6182e65fdbc>\u001b[0m in \u001b[0;36m<module>\u001b[0;34m\u001b[0m\n\u001b[1;32m     10\u001b[0m \u001b[0mprint\u001b[0m\u001b[0;34m(\u001b[0m\u001b[0mnext\u001b[0m\u001b[0;34m(\u001b[0m\u001b[0miterator_obj\u001b[0m\u001b[0;34m)\u001b[0m\u001b[0;34m)\u001b[0m\u001b[0;34m\u001b[0m\u001b[0;34m\u001b[0m\u001b[0m\n\u001b[1;32m     11\u001b[0m \u001b[0mprint\u001b[0m\u001b[0;34m(\u001b[0m\u001b[0mnext\u001b[0m\u001b[0;34m(\u001b[0m\u001b[0miterator_obj\u001b[0m\u001b[0;34m)\u001b[0m\u001b[0;34m)\u001b[0m\u001b[0;34m\u001b[0m\u001b[0;34m\u001b[0m\u001b[0m\n\u001b[0;32m---> 12\u001b[0;31m \u001b[0mprint\u001b[0m\u001b[0;34m(\u001b[0m\u001b[0mnext\u001b[0m\u001b[0;34m(\u001b[0m\u001b[0miterator_obj\u001b[0m\u001b[0;34m)\u001b[0m\u001b[0;34m)\u001b[0m\u001b[0;34m\u001b[0m\u001b[0;34m\u001b[0m\u001b[0m\n\u001b[0m",
            "\u001b[0;31mStopIteration\u001b[0m: "
          ]
        }
      ]
    },
    {
      "cell_type": "code",
      "source": [
        "# Iterators keep state (iterable vs iterator objects)\n",
        "\n",
        "iterabile = [1, 2, 3, 4, 5]\n",
        "iteratore = iter(iterabile)\n",
        "\n",
        "for i in range(4):\n",
        "  print(iterabile[i])\n",
        "\n",
        "for j in range(4):\n",
        "  print(iterabile[j])\n",
        "\n",
        "print(\"\\nIterator\\n\")\n",
        "\n",
        "for it in range(4):\n",
        "  print(iteratore.__next__())\n",
        "\n",
        "for itt in range(4):\n",
        "  print(iteratore.__next__())\n"
      ],
      "metadata": {
        "id": "KVDOZkKgAvjW"
      },
      "execution_count": null,
      "outputs": []
    },
    {
      "cell_type": "code",
      "source": [
        "# range() returns an iterable immutable object, but is not an iterator.\n",
        "\n",
        "non_iteratore = range(10)\n",
        "\n",
        "iteratore = iter(non_iteratore)\n",
        "\n",
        "print(type(non_iteratore))\n",
        "print(type(iteratore))\n",
        "\n",
        "iteratore.__next__()\n"
      ],
      "metadata": {
        "id": "_U8w1jOjjnEV"
      },
      "execution_count": null,
      "outputs": []
    },
    {
      "cell_type": "code",
      "source": [
        "import itertools\n",
        "\n",
        "iterator1 = iter([1, 2, 3])\n",
        "iterator2 = iter([4, 5, 6])\n",
        "\n",
        "iterator3 = itertools.chain(iterator1, iterator2)\n",
        "\n",
        "for i in range(7):\n",
        "  print(iterator3.__next__())"
      ],
      "metadata": {
        "id": "SrooZO8bhtk4"
      },
      "execution_count": null,
      "outputs": []
    },
    {
      "cell_type": "code",
      "source": [
        "count = itertools.count(10)\n",
        "\n",
        "for i in range(10):\n",
        "  print(count.__next__())"
      ],
      "metadata": {
        "id": "lKKGoldeis-y"
      },
      "execution_count": null,
      "outputs": []
    },
    {
      "cell_type": "code",
      "source": [
        "# Roughly equivalent to this generator function (NB: generator functions have \"yield\", no \"return\"):\n",
        "\n",
        "def count(start=0, step=1):\n",
        "    # count(10) --> 10 11 12 13 14 ...\n",
        "    # count(2.5, 0.5) --> 2.5 3.0 3.5 ...\n",
        "    n = start\n",
        "    while True:\n",
        "        yield n\n",
        "        n += step\n",
        "\n",
        "count = count(10)\n",
        "\n",
        "for i in range(10):\n",
        "  print(count.__next__())"
      ],
      "metadata": {
        "id": "pG69f3r-i3mo"
      },
      "execution_count": null,
      "outputs": []
    },
    {
      "cell_type": "code",
      "source": [
        "# Scrivere una generator function per generare i primi 20 numeri pari.\n",
        "\n",
        "import itertools\n",
        "\n",
        "def iter_evens():\n",
        "  for i in range(0,21,2):\n",
        "    yield i\n",
        "  \n",
        "gen = iter_evens()\n",
        "\n",
        "print(gen.__next__())\n",
        "print(gen.__next__())\n",
        "print(gen.__next__())\n",
        "print(gen.__next__())"
      ],
      "metadata": {
        "id": "FzpGX0pil4Sm",
        "outputId": "6da2db3a-1d2a-4415-c8ae-f0b74f4e8c9a",
        "colab": {
          "base_uri": "https://localhost:8080/"
        }
      },
      "execution_count": 67,
      "outputs": [
        {
          "output_type": "stream",
          "name": "stdout",
          "text": [
            "0\n",
            "2\n",
            "4\n",
            "6\n"
          ]
        }
      ]
    },
    {
      "cell_type": "code",
      "source": [
        "# Vecchio:\n",
        "# def first_n(n):\n",
        "#   '''Build and return a list'''\n",
        "#   num, nums = 0, []\n",
        "#   while num < n:\n",
        "#     nums.append(num)\n",
        "#     num += 1\n",
        "#   return nums\n",
        "  \n",
        "# Il programma deve stampare i primi N numeri.\n",
        "# In questo esempio genero (tramite funzione) una lista di 1000000 elementi \n",
        "# e ne stampo i primi 40 (non ha molto senso; che spreco inutile di memoria!)\n",
        "# Riscrivere il programma utilizzando le generator function.\n",
        "\n",
        "# Nuovo:\n",
        "def first_n(n):\n",
        "  for i in range(n):\n",
        "    yield i\n",
        "\n",
        "first_numbers = first_n(1000000)\n",
        "\n",
        "for i in range(40):\n",
        "  print(first_numbers.__next__())\n"
      ],
      "metadata": {
        "id": "xIWjkOLxmqa3",
        "outputId": "f40306c9-0f6f-4251-d8b2-9bee060c0d2e",
        "colab": {
          "base_uri": "https://localhost:8080/"
        }
      },
      "execution_count": 120,
      "outputs": [
        {
          "output_type": "stream",
          "name": "stdout",
          "text": [
            "0\n",
            "1\n",
            "2\n",
            "3\n",
            "4\n",
            "5\n",
            "6\n",
            "7\n",
            "8\n",
            "9\n",
            "10\n",
            "11\n",
            "12\n",
            "13\n",
            "14\n",
            "15\n",
            "16\n",
            "17\n",
            "18\n",
            "19\n",
            "20\n",
            "21\n",
            "22\n",
            "23\n",
            "24\n",
            "25\n",
            "26\n",
            "27\n",
            "28\n",
            "29\n",
            "30\n",
            "31\n",
            "32\n",
            "33\n",
            "34\n",
            "35\n",
            "36\n",
            "37\n",
            "38\n",
            "39\n"
          ]
        }
      ]
    },
    {
      "cell_type": "markdown",
      "source": [
        "**Recommender System**\n",
        "\n",
        "\n",
        "Le liste Python possono essere eterogenee (elementi di diverso tipo, es. `[5, \"Hello\", 3.2]`\n",
        "Invece tutti gli elementi di un array NumPy devono essere omogenei.\n",
        "Le operazioni matematiche che devono essere eseguite sugli array sarebbero estremamente inefficienti \n",
        "se gli array non fossero omogenei.\n",
        "\n",
        "*Perché NumPy?* Gli array NumPy sono più veloci e compatti delle liste. NumPy utilizza molta meno memoria per memorizzare i dati e fornisce un meccanismo di specificazione dei tipi di dati. Ciò consente di ottimizzare ulteriormente il codice.\n",
        "\n",
        "*Documentazione e link utili*: \n",
        "\n",
        "\n",
        "*   https://numpy.org/doc/stable/reference/generated/numpy.array.html  \n",
        "*   https://numpy.org/doc/stable/user/absolute_beginners.html \n",
        "\n"
      ],
      "metadata": {
        "id": "iLHK0SEID9fu"
      }
    },
    {
      "cell_type": "code",
      "source": [
        "# Utilizzando la libreria numpy, implementate gli algoritmi progettati/visti ieri in classe.\n",
        "# (algoritmo similitudine e algoritmo valutazione) \n",
        "# In particolare, vi chiediamo di implementare la soluzione utilizzando gli array NumPy.\n",
        "# Leggete attentamente la documentazione della libreria. Può essere utile anche la libreria Pandas.\n",
        "\n",
        "def similitudine(V, S, na, nf):\n",
        "  for i in range(1, na):\n",
        "    for j in range(1, na):\n",
        "      tot = 0\n",
        "      for k in range(1, nf):\n",
        "        if (V[i][k] != 0 or V[j][k] != 0):\n",
        "          tot += 1\n",
        "        S[i][j] = S[i][j] + V[i][k] * V[j][k]\n",
        "      S[i][j] = S[i][j] / tot\n",
        "\n",
        "\n",
        "def valutazione(V, S, na ,i, k):\n",
        "  num = 0\n",
        "  den = 0\n",
        "  for j in range(1, na):\n",
        "    if (V[j][k] != 0):\n",
        "      num += V[j][k] * S[i][j]\n",
        "      den += abs(S[i, j])\n",
        "  \n",
        "  return num/den if den > 0 else 0\n"
      ],
      "metadata": {
        "id": "C-OpZLdYEA7b"
      },
      "execution_count": null,
      "outputs": []
    },
    {
      "cell_type": "markdown",
      "source": [
        "**EXTRA** Supponiamo ora di avere a che fare con dei ranking su scala Likert [1, 2, 3, 4, 5] (in classe abbiamo visto solo il caso con valori 0 e 1). Come si potrebbe calcolare la similarità? Es. cosine similarity https://en.wikipedia.org/wiki/Cosine_similarity Provate a pensare (e implementare) la soluzione."
      ],
      "metadata": {
        "id": "mtuyX1gLHB-4"
      }
    },
    {
      "cell_type": "code",
      "source": [],
      "metadata": {
        "id": "htfjn56UHfNc"
      },
      "execution_count": null,
      "outputs": []
    }
  ]
}